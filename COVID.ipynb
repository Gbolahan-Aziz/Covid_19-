{
 "cells": [
  {
   "cell_type": "code",
   "execution_count": 1,
   "metadata": {},
   "outputs": [
    {
     "name": "stderr",
     "output_type": "stream",
     "text": [
      "Using TensorFlow backend.\n"
     ]
    }
   ],
   "source": [
    "import tensorflow as tf \n",
    "import numpy as np\n",
    "from tensorflow import keras\n",
    "import tensorflow_hub as hub\n",
    "import os\n",
    "import random \n",
    "import shutil\n",
    "from keras.preprocessing import image"
   ]
  },
  {
   "cell_type": "code",
   "execution_count": 2,
   "metadata": {},
   "outputs": [
    {
     "name": "stdout",
     "output_type": "stream",
     "text": [
      "460\n",
      "1266\n",
      "3418\n"
     ]
    }
   ],
   "source": [
    "print(len(os.listdir('C:/Users/hp/Desktop/Covid/train/COVID19/')))\n",
    "print(len(os.listdir('C:/Users/hp/Desktop/Covid/train/NORMAL/')))\n",
    "print(len(os.listdir('C:/Users/hp/Desktop/Covid/train/PNEUMONIA/')))"
   ]
  },
  {
   "cell_type": "code",
   "execution_count": 3,
   "metadata": {},
   "outputs": [
    {
     "name": "stdout",
     "output_type": "stream",
     "text": [
      "116\n",
      "317\n",
      "855\n"
     ]
    }
   ],
   "source": [
    "print(len(os.listdir('C:/Users/hp/Desktop/Covid/test/COVID19/')))\n",
    "print(len(os.listdir('C:/Users/hp/Desktop/Covid/test/NORMAL/')))\n",
    "print(len(os.listdir('C:/Users/hp/Desktop/Covid/test/PNEUMONIA/')))"
   ]
  },
  {
   "cell_type": "code",
   "execution_count": 4,
   "metadata": {},
   "outputs": [],
   "source": [
    "try:\n",
    "    os.mkdir('C:/Users/hp/Desktop/train-vs-val/training')\n",
    "    os.mkdir('C:/Users/hp/Desktop/train-vs-val/validation')\n",
    "    os.mkdir('C:/Users/hp/Desktop/train-vs-val/training/COVID19')\n",
    "    os.mkdir('C:/Users/hp/Desktop/train-vs-val/validation/COVID19')\n",
    "    os.mkdir('C:/Users/hp/Desktop/train-vs-val/training/NORMAL')\n",
    "    os.mkdir('C:/Users/hp/Desktop/train-vs-val/validation/NORMAL')\n",
    "    os.mkdir('C:/Users/hp/Desktop/train-vs-val/training/PNEUMONIA')\n",
    "    os.mkdir('C:/Users/hp/Desktop/train-vs-val/validation/PNEUMONIA')\n",
    "except OSError:\n",
    "    pass\n",
    "             "
   ]
  },
  {
   "cell_type": "code",
   "execution_count": 4,
   "metadata": {},
   "outputs": [],
   "source": [
    "def split_data(SOURCE, TRAINING, TESTING, SPLIT_SIZE):\n",
    "    files = []\n",
    "    for filename in os.listdir(SOURCE):\n",
    "        file = SOURCE + filename\n",
    "        if os.path.getsize(file) > 0:\n",
    "            files.append(filename)\n",
    "        else:\n",
    "            print(filename + ' is zero length, so ignoring.')\n",
    "    training_length = int(len(files) * SPLIT_SIZE)\n",
    "    testing_length = int(len(files) - training_length)\n",
    "    shuffled_set = random.sample(files, len(files))\n",
    "    training_set = shuffled_set[0:training_length]\n",
    "    testing_set = shuffled_set[-testing_length:]\n",
    "    \n",
    "    \n",
    "    for filename in training_set:\n",
    "        this_file = SOURCE + filename\n",
    "        destination = TRAINING + filename\n",
    "        shutil.copyfile(this_file, destination)\n",
    "        \n",
    "    for filename in testing_set:\n",
    "        This_file = SOURCE + filename\n",
    "        destination = TESTING + filename\n",
    "        shutil.copyfile(This_file, destination)"
   ]
  },
  {
   "cell_type": "code",
   "execution_count": 5,
   "metadata": {},
   "outputs": [],
   "source": [
    "COVID_SOURCE_DIR = 'C:/Users/hp/Desktop/Covid/train/COVID19/'\n",
    "TRAINING_COVID_DIR = 'C:/Users/hp/Desktop/train-vs-val/training/COVID19/'\n",
    "VALIDATING_COVID_DIR = 'C:/Users/hp/Desktop/train-vs-val/validation/COVID19/'\n",
    "NORMAL_SOURCE_DIR = 'C:/Users/hp/Desktop/Covid/train/NORMAL/'\n",
    "TRAINING_NORMAL_DIR = 'C:/Users/hp/Desktop/train-vs-val/training/NORMAL/'\n",
    "VALIDATING_NORMAL_DIR = 'C:/Users/hp/Desktop/train-vs-val/validation/NORMAL/'\n",
    "PNEUMONIA_SOURCE_DIR = 'C:/Users/hp/Desktop/Covid/train/PNEUMONIA/'\n",
    "TRAINING_PNEUMONIA_DIR = 'C:/Users/hp/Desktop/train-vs-val/training/PNEUMONIA/'\n",
    "VALIDATING_PNEUMONIA_DIR = 'C:/Users/hp/Desktop/train-vs-val/validation/PNEUMONIA/'"
   ]
  },
  {
   "cell_type": "code",
   "execution_count": 6,
   "metadata": {},
   "outputs": [],
   "source": [
    "split_size = .9"
   ]
  },
  {
   "cell_type": "code",
   "execution_count": 12,
   "metadata": {},
   "outputs": [],
   "source": [
    "split_data(COVID_SOURCE_DIR,TRAINING_COVID_DIR,VALIDATING_COVID_DIR,split_size)"
   ]
  },
  {
   "cell_type": "code",
   "execution_count": 13,
   "metadata": {},
   "outputs": [],
   "source": [
    "split_data(NORMAL_SOURCE_DIR,TRAINING_NORMAL_DIR,VALIDATING_NORMAL_DIR,split_size)"
   ]
  },
  {
   "cell_type": "code",
   "execution_count": 14,
   "metadata": {},
   "outputs": [],
   "source": [
    "split_data(PNEUMONIA_SOURCE_DIR,TRAINING_PNEUMONIA_DIR,VALIDATING_PNEUMONIA_DIR,split_size)"
   ]
  },
  {
   "cell_type": "code",
   "execution_count": 15,
   "metadata": {},
   "outputs": [
    {
     "name": "stdout",
     "output_type": "stream",
     "text": [
      "414\n",
      "1139\n",
      "3076\n"
     ]
    }
   ],
   "source": [
    "print(len(os.listdir('C:/Users/hp/Desktop/train-vs-val/training/COVID19')))\n",
    "print(len(os.listdir('C:/Users/hp/Desktop/train-vs-val/training/NORMAL')))\n",
    "print(len(os.listdir('C:/Users/hp/Desktop/train-vs-val/training/PNEUMONIA')))"
   ]
  },
  {
   "cell_type": "code",
   "execution_count": 16,
   "metadata": {},
   "outputs": [
    {
     "name": "stdout",
     "output_type": "stream",
     "text": [
      "124\n",
      "343\n",
      "932\n"
     ]
    }
   ],
   "source": [
    "print(len(os.listdir('C:/Users/hp/Desktop/train-vs-val/validation/COVID19')))\n",
    "print(len(os.listdir('C:/Users/hp/Desktop/train-vs-val/validation/NORMAL')))\n",
    "print(len(os.listdir('C:/Users/hp/Desktop/train-vs-val/validation/PNEUMONIA')))"
   ]
  },
  {
   "cell_type": "code",
   "execution_count": 17,
   "metadata": {},
   "outputs": [],
   "source": [
    "model = keras.Sequential([\n",
    "    keras.layers.Conv2D(32,(3,3), activation='relu',input_shape=(150, 150, 3)),\n",
    "    keras.layers.MaxPooling2D(2,2),\n",
    "    keras.layers.Conv2D(64,(3,3), activation='relu'),\n",
    "    keras.layers.MaxPooling2D(2,2),\n",
    "    keras.layers.Conv2D(128,(3,3), activation='relu'),\n",
    "    keras.layers.MaxPooling2D(2,2),\n",
    "    tf.keras.layers.Dropout(0.3),\n",
    "    keras.layers.Conv2D(256,(3,3), activation='relu'),\n",
    "    keras.layers.MaxPooling2D(2,2),\n",
    "    keras.layers.Flatten(),\n",
    "    keras.layers.Dense(512, activation=tf.nn.relu),\n",
    "    keras.layers.Dense(3, activation=tf.nn.softmax)\n",
    "])"
   ]
  },
  {
   "cell_type": "code",
   "execution_count": 18,
   "metadata": {},
   "outputs": [
    {
     "name": "stdout",
     "output_type": "stream",
     "text": [
      "Model: \"sequential\"\n",
      "_________________________________________________________________\n",
      "Layer (type)                 Output Shape              Param #   \n",
      "=================================================================\n",
      "conv2d (Conv2D)              (None, 148, 148, 32)      896       \n",
      "_________________________________________________________________\n",
      "max_pooling2d (MaxPooling2D) (None, 74, 74, 32)        0         \n",
      "_________________________________________________________________\n",
      "conv2d_1 (Conv2D)            (None, 72, 72, 64)        18496     \n",
      "_________________________________________________________________\n",
      "max_pooling2d_1 (MaxPooling2 (None, 36, 36, 64)        0         \n",
      "_________________________________________________________________\n",
      "conv2d_2 (Conv2D)            (None, 34, 34, 128)       73856     \n",
      "_________________________________________________________________\n",
      "max_pooling2d_2 (MaxPooling2 (None, 17, 17, 128)       0         \n",
      "_________________________________________________________________\n",
      "dropout (Dropout)            (None, 17, 17, 128)       0         \n",
      "_________________________________________________________________\n",
      "conv2d_3 (Conv2D)            (None, 15, 15, 256)       295168    \n",
      "_________________________________________________________________\n",
      "max_pooling2d_3 (MaxPooling2 (None, 7, 7, 256)         0         \n",
      "_________________________________________________________________\n",
      "flatten (Flatten)            (None, 12544)             0         \n",
      "_________________________________________________________________\n",
      "dense (Dense)                (None, 512)               6423040   \n",
      "_________________________________________________________________\n",
      "dense_1 (Dense)              (None, 3)                 1539      \n",
      "=================================================================\n",
      "Total params: 6,812,995\n",
      "Trainable params: 6,812,995\n",
      "Non-trainable params: 0\n",
      "_________________________________________________________________\n"
     ]
    }
   ],
   "source": [
    "model.summary()"
   ]
  },
  {
   "cell_type": "code",
   "execution_count": 19,
   "metadata": {},
   "outputs": [],
   "source": [
    "model.compile(optimizer = 'Adam',\n",
    "             loss= 'categorical_crossentropy',\n",
    "             metrics=['accuracy']\n",
    "             )"
   ]
  },
  {
   "cell_type": "code",
   "execution_count": 20,
   "metadata": {},
   "outputs": [
    {
     "name": "stdout",
     "output_type": "stream",
     "text": [
      "Found 4629 images belonging to 3 classes.\n",
      "Found 1399 images belonging to 3 classes.\n"
     ]
    }
   ],
   "source": [
    "from tensorflow.keras.preprocessing.image import ImageDataGenerator\n",
    "TRAINING_DIR = 'C:/Users/hp/Desktop/train-vs-val/training'\n",
    "VALIDATION_DIR = 'C:/Users/hp/Desktop/train-vs-val/validation'\n",
    "train_datagen = ImageDataGenerator(rescale=1/255,\n",
    "                                  zoom_range=0.2,\n",
    "                                  fill_mode='nearest')\n",
    "train_generator = train_datagen.flow_from_directory(TRAINING_DIR,\n",
    "                                                   target_size=(150,150),\n",
    "                                                   batch_size=154,\n",
    "                                                   class_mode='categorical')\n",
    "\n",
    "validation_datagen = ImageDataGenerator(rescale=1/255)\n",
    "validation_generator = validation_datagen.flow_from_directory(VALIDATION_DIR,\n",
    "                                                             target_size=(150,150),\n",
    "                                                             batch_size=103,\n",
    "                                                             class_mode='categorical')"
   ]
  },
  {
   "cell_type": "code",
   "execution_count": 21,
   "metadata": {},
   "outputs": [
    {
     "name": "stdout",
     "output_type": "stream",
     "text": [
      "WARNING:tensorflow:sample_weight modes were coerced from\n",
      "  ...\n",
      "    to  \n",
      "  ['...']\n",
      "WARNING:tensorflow:sample_weight modes were coerced from\n",
      "  ...\n",
      "    to  \n",
      "  ['...']\n",
      "Train for 30 steps, validate for 5 steps\n",
      "Epoch 1/10\n",
      "30/30 [==============================] - 454s 15s/step - loss: 0.9193 - accuracy: 0.6177 - val_loss: 0.7615 - val_accuracy: 0.6544\n",
      "Epoch 2/10\n",
      "30/30 [==============================] - 356s 12s/step - loss: 0.5908 - accuracy: 0.7468 - val_loss: 0.4407 - val_accuracy: 0.8097\n",
      "Epoch 3/10\n",
      "30/30 [==============================] - 357s 12s/step - loss: 0.3989 - accuracy: 0.8322 - val_loss: 0.2369 - val_accuracy: 0.9029\n",
      "Epoch 4/10\n",
      "30/30 [==============================] - 354s 12s/step - loss: 0.3433 - accuracy: 0.8574 - val_loss: 0.2384 - val_accuracy: 0.9223\n",
      "Epoch 5/10\n",
      "30/30 [==============================] - 356s 12s/step - loss: 0.3310 - accuracy: 0.8726 - val_loss: 0.2438 - val_accuracy: 0.8971\n",
      "Epoch 6/10\n",
      "30/30 [==============================] - 355s 12s/step - loss: 0.3006 - accuracy: 0.8856 - val_loss: 0.1847 - val_accuracy: 0.9282\n",
      "Epoch 7/10\n",
      "30/30 [==============================] - 360s 12s/step - loss: 0.2695 - accuracy: 0.8885 - val_loss: 0.1880 - val_accuracy: 0.9262\n",
      "Epoch 8/10\n",
      "30/30 [==============================] - 356s 12s/step - loss: 0.2355 - accuracy: 0.9111 - val_loss: 0.1500 - val_accuracy: 0.9437\n",
      "Epoch 9/10\n",
      "30/30 [==============================] - 351s 12s/step - loss: 0.2241 - accuracy: 0.9151 - val_loss: 0.1458 - val_accuracy: 0.9476\n",
      "Epoch 10/10\n",
      "30/30 [==============================] - 352s 12s/step - loss: 0.2287 - accuracy: 0.9169 - val_loss: 0.1449 - val_accuracy: 0.9456\n"
     ]
    }
   ],
   "source": [
    "history = model.fit(\n",
    "    train_generator,\n",
    "    validation_data = validation_generator,\n",
    "    epochs=10,\n",
    "    steps_per_epoch=30,\n",
    "    validation_steps=5\n",
    ")"
   ]
  },
  {
   "cell_type": "code",
   "execution_count": 22,
   "metadata": {},
   "outputs": [],
   "source": [
    "import matplotlib.image as mpimg\n",
    "import matplotlib.pyplot as plt"
   ]
  },
  {
   "cell_type": "code",
   "execution_count": 23,
   "metadata": {},
   "outputs": [
    {
     "data": {
      "text/plain": [
       "<Figure size 432x288 with 0 Axes>"
      ]
     },
     "execution_count": 23,
     "metadata": {},
     "output_type": "execute_result"
    },
    {
     "data": {
      "image/png": "[encoded data removed]",
      "text/plain": [
       "<Figure size 432x288 with 1 Axes>"
      ]
     },
     "metadata": {
      "needs_background": "light"
     },
     "output_type": "display_data"
    },
    {
     "data": {
      "text/plain": [
       "<Figure size 432x288 with 0 Axes>"
      ]
     },
     "metadata": {},
     "output_type": "display_data"
    }
   ],
   "source": [
    "acc = history.history['accuracy']\n",
    "val_acc = history.history['val_accuracy']\n",
    "loss = history.history['loss']\n",
    "val_loss = history.history['val_loss']\n",
    "\n",
    "epochs = range(len(acc))\n",
    "\n",
    "plt.plot(epochs, acc,'r','Training Accuracy')\n",
    "plt.plot(epochs, val_acc,'b','Validation Accuracy')\n",
    "plt.title('Training and Validation Accuracy')\n",
    "plt.figure()"
   ]
  },
  {
   "cell_type": "code",
   "execution_count": 24,
   "metadata": {},
   "outputs": [
    {
     "data": {
      "text/plain": [
       "<Figure size 432x288 with 0 Axes>"
      ]
     },
     "execution_count": 24,
     "metadata": {},
     "output_type": "execute_result"
    },
    {
     "data": {
      "image/png": "[encoded data removed]",
      "text/plain": [
       "<Figure size 432x288 with 1 Axes>"
      ]
     },
     "metadata": {
      "needs_background": "light"
     },
     "output_type": "display_data"
    },
    {
     "data": {
      "text/plain": [
       "<Figure size 432x288 with 0 Axes>"
      ]
     },
     "metadata": {},
     "output_type": "display_data"
    }
   ],
   "source": [
    "plt.plot(epochs, loss,'r', 'Training Loss')\n",
    "plt.plot(epochs, val_loss,'b', 'Validation Loss')\n",
    "plt.figure()"
   ]
  },
  {
   "cell_type": "code",
   "execution_count": 25,
   "metadata": {},
   "outputs": [
    {
     "name": "stdout",
     "output_type": "stream",
     "text": [
      "Found 1288 images belonging to 3 classes.\n"
     ]
    }
   ],
   "source": [
    "TEST_DIR = 'C:/Users/hp/Desktop/Covid/test/'\n",
    "test_datagen = ImageDataGenerator(rescale=1/255,\n",
    "                                  fill_mode='nearest')\n",
    "test_generator = test_datagen.flow_from_directory(TEST_DIR,\n",
    "                                                             target_size=(150,150),\n",
    "                                                             batch_size=103,\n",
    "                                                             class_mode='categorical')"
   ]
  },
  {
   "cell_type": "code",
   "execution_count": 26,
   "metadata": {},
   "outputs": [
    {
     "name": "stdout",
     "output_type": "stream",
     "text": [
      "WARNING:tensorflow:sample_weight modes were coerced from\n",
      "  ...\n",
      "    to  \n",
      "  ['...']\n",
      "13/13 [==============================] - 204s 16s/step - loss: 0.1808 - accuracy: 0.9394\n",
      "Testscore: 0.1808248391518226\n",
      "Test accuracy: 0.93944097\n"
     ]
    }
   ],
   "source": [
    "score = model.evaluate(test_generator,verbose=1)\n",
    "print('Testscore:', score[0])\n",
    "print('Test accuracy:', score[1])"
   ]
  },
  {
   "cell_type": "code",
   "execution_count": 27,
   "metadata": {},
   "outputs": [
    {
     "name": "stdout",
     "output_type": "stream",
     "text": [
      "WARNING:tensorflow:From <ipython-input-27-8da3a80ae4a7>:1: Model.predict_generator (from tensorflow.python.keras.engine.training) is deprecated and will be removed in a future version.\n",
      "Instructions for updating:\n",
      "Please use Model.predict, which supports generators.\n"
     ]
    }
   ],
   "source": [
    "y_pred = model.predict_generator(test_generator)"
   ]
  },
  {
   "cell_type": "code",
   "execution_count": 28,
   "metadata": {},
   "outputs": [],
   "source": [
    "Y_pred = np.argmax(y_pred, axis=1)"
   ]
  },
  {
   "cell_type": "code",
   "execution_count": 29,
   "metadata": {},
   "outputs": [],
   "source": [
    "from sklearn.metrics import confusion_matrix"
   ]
  },
  {
   "cell_type": "code",
   "execution_count": 30,
   "metadata": {},
   "outputs": [],
   "source": [
    "classes = ['Covid19','Normal','Pneumoinia']"
   ]
  },
  {
   "cell_type": "code",
   "execution_count": 31,
   "metadata": {},
   "outputs": [
    {
     "data": {
      "text/plain": [
       "1288"
      ]
     },
     "execution_count": 31,
     "metadata": {},
     "output_type": "execute_result"
    }
   ],
   "source": [
    "test_generator.classes.size"
   ]
  },
  {
   "cell_type": "code",
   "execution_count": 32,
   "metadata": {},
   "outputs": [
    {
     "data": {
      "text/plain": [
       "1288"
      ]
     },
     "execution_count": 32,
     "metadata": {},
     "output_type": "execute_result"
    }
   ],
   "source": [
    "Y_pred.size"
   ]
  },
  {
   "cell_type": "code",
   "execution_count": 33,
   "metadata": {},
   "outputs": [
    {
     "data": {
      "text/plain": [
       "array([[  7,  30,  79],\n",
       "       [ 25,  75, 217],\n",
       "       [ 85, 188, 582]], dtype=int64)"
      ]
     },
     "execution_count": 33,
     "metadata": {},
     "output_type": "execute_result"
    }
   ],
   "source": [
    "confusion_matrix(test_generator.classes,Y_pred,labels=[0,1,2])"
   ]
  },
  {
   "cell_type": "code",
   "execution_count": 35,
   "metadata": {},
   "outputs": [
    {
     "name": "stdout",
     "output_type": "stream",
     "text": [
      "WARNING:tensorflow:From C:\\Users\\hp\\Anaconda3.0\\envs\\tensorflow\\lib\\site-packages\\tensorflow_core\\python\\ops\\resource_variable_ops.py:1786: calling BaseResourceVariable.__init__ (from tensorflow.python.ops.resource_variable_ops) with constraint is deprecated and will be removed in a future version.\n",
      "Instructions for updating:\n",
      "If using Keras pass *_constraint arguments to layers.\n",
      "INFO:tensorflow:Assets written to: covid_model\\assets\n"
     ]
    }
   ],
   "source": [
    "model.save('covid_model')"
   ]
  },
  {
   "cell_type": "code",
   "execution_count": null,
   "metadata": {},
   "outputs": [],
   "source": []
  }
 ],
 "metadata": {
  "kernelspec": {
   "display_name": "Python 3",
   "language": "python",
   "name": "python3"
  },
  "language_info": {
   "codemirror_mode": {
    "name": "ipython",
    "version": 3
   },
   "file_extension": ".py",
   "mimetype": "text/x-python",
   "name": "python",
   "nbconvert_exporter": "python",
   "pygments_lexer": "ipython3",
   "version": "3.7.7"
  }
 },
 "nbformat": 4,
 "nbformat_minor": 4
}
